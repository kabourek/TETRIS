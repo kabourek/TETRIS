{
 "cells": [
  {
   "cell_type": "code",
   "execution_count": 25,
   "metadata": {},
   "outputs": [],
   "source": [
    "import numpy as np\n",
    "import pygame, sys, random"
   ]
  },
  {
   "cell_type": "markdown",
   "metadata": {},
   "source": [
    "## drawing game board\n",
    "- 22,10 matrix of strings"
   ]
  },
  {
   "cell_type": "code",
   "execution_count": 26,
   "metadata": {},
   "outputs": [],
   "source": [
    "class Tetrion:\n",
    "    \"game boards\"\n",
    "    \n",
    "    def __init__(self,name,size):\n",
    "        \"\"\"initialize game_matrix spaces\"\"\"\n",
    "        self.name = name\n",
    "        self.size = size\n",
    "        self.board = None\n",
    "        self.default_board()\n",
    "        \n",
    "    def default_board(self, default_fill = ''):\n",
    "        \"\"\"self.board is reassigned to matrix(size)\"\"\"\n",
    "        if self.board == None:\n",
    "            self.board = np.full(shape=self.size, fill_value=default_fill, dtype=object)\n",
    "            return(self.board)\n",
    "    \n",
    "\n",
    "    def full_row(self,default_fill = '',empty=False): \n",
    "        \"\"\"returns row index of full () rows\"\"\" \n",
    "        list_index=[]\n",
    "        \n",
    "        #default\n",
    "        if empty == False:\n",
    "            for i,j in enumerate(self.board):\n",
    "                # check rows to see if all row-elements arent empty\n",
    "                if np.all(j != default_fill):\n",
    "                    list_index.append(i)\n",
    "                    #print(\"row {} full\".format(i))\n",
    "                #else: print(\"row {} clear\".format(i))\n",
    "        \n",
    "        #used for row_roll\n",
    "        elif empty == True: \n",
    "            for i,j in enumerate(self.board):\n",
    "                if np.all(j == default_fill):\n",
    "                    list_index.append(i)\n",
    "        return(list_index)\n",
    "        \n",
    "    def empty_full_row(self,default_fill = ''):\n",
    "        \"\"\"clears rows indicated by full_row()\"\"\"\n",
    "        row_list = self.full_row()\n",
    "        \n",
    "        for i,j in enumerate(self.board):\n",
    "            for k in row_list:\n",
    "                if i == k:\n",
    "                    #print(\"clearing row {}\".format(i))\n",
    "                    self.board[i] = default_fill\n",
    "                    row_list.remove(i)\n",
    "        #return(self.board)\n",
    "\n",
    "                    \n",
    "    def row_roll(self):\n",
    "        \"\"\"shifts unempty rows downwards if there's empty rows bow\"\"\"\n",
    "        # np.roll loops through board[0:empty_index] -> empty row to top\n",
    "        \n",
    "        roll_list = self.full_row(empty=True)\n",
    "        #print(roll_list) \n",
    "        for i in roll_list:\n",
    "            print('rolling [0:{}]'.format(i))\n",
    "            self.board[0:i+1]=np.roll(self.board[0:i+1],shift=1,axis=0)\n",
    "        return(self.board)"
   ]
  },
  {
   "cell_type": "code",
   "execution_count": 27,
   "metadata": {},
   "outputs": [],
   "source": [
    "spawn_area = Tetrion(name='spawn',size=(2,10))\n",
    "play_area= Tetrion(name='play',size=(20,10))\n",
    "on_deck = Tetrion(name='next_piece', size=(2,4))"
   ]
  },
  {
   "cell_type": "code",
   "execution_count": 28,
   "metadata": {
    "collapsed": true
   },
   "outputs": [
    {
     "data": {
      "text/plain": [
       "array([['', '', '', '', 2, 2, 2, 2, 2, ''],\n",
       "       ['', '', '', '', '', '', '', '', '', ''],\n",
       "       ['', '', '', '', '', '', '', '', '', ''],\n",
       "       ['', '', '', '', '', '', '', '', '', ''],\n",
       "       ['', '', '', '', '', '', '', '', '', ''],\n",
       "       ['', 2, 2, 2, 2, 2, 2, 2, 2, ''],\n",
       "       [1, 1, 1, 1, 1, 1, 1, 1, 1, 1],\n",
       "       ['', '', '', '', '', '', '', '', '', 0],\n",
       "       ['', '', '', '', '', '', '', '', '', ''],\n",
       "       ['', '', '', '', '', '', '', '', '', ''],\n",
       "       ['', '', '', '', '', '', '', '', '', ''],\n",
       "       ['', '', '', '', '', '', '', '', '', ''],\n",
       "       ['', '', '', '', '', '', '', '', '', ''],\n",
       "       ['', '', '', '', '', '', '', '', '', ''],\n",
       "       ['', '', '', '', '', '', '', '', '', ''],\n",
       "       [0, 0, 0, 0, 0, 0, 0, 0, 0, 0],\n",
       "       ['', '', '', 2, '', '', '', '', '', ''],\n",
       "       [2, 2, 2, '', '', '', '', '', '', ''],\n",
       "       [0, 0, 0, 0, 0, 0, 0, 0, 0, 0],\n",
       "       [2, 2, 2, 2, 2, 2, 2, 2, 2, '']], dtype=object)"
      ]
     },
     "execution_count": 28,
     "metadata": {},
     "output_type": "execute_result"
    }
   ],
   "source": [
    "play_area.board[15] = 0\n",
    "play_area.board[16][3] = 2\n",
    "play_area.board[17][0:3] = 2\n",
    "play_area.board[18] = 0\n",
    "play_area.board[0][4:9] = 2\n",
    "play_area.board[19][0:9] = 2\n",
    "\n",
    "play_area.board[5][1:9] = 2\n",
    "play_area.board[6][0:] = 1\n",
    "play_area.board[7][9] = 0\n",
    "play_area.board"
   ]
  },
  {
   "cell_type": "code",
   "execution_count": 34,
   "metadata": {
    "collapsed": true
   },
   "outputs": [
    {
     "name": "stdout",
     "output_type": "stream",
     "text": [
      "rolling [0:0]\n",
      "rolling [0:1]\n",
      "rolling [0:2]\n",
      "rolling [0:3]\n",
      "rolling [0:4]\n",
      "rolling [0:5]\n",
      "rolling [0:6]\n",
      "rolling [0:7]\n",
      "rolling [0:8]\n",
      "rolling [0:9]\n",
      "rolling [0:10]\n",
      "rolling [0:11]\n",
      "rolling [0:12]\n",
      "rolling [0:13]\n"
     ]
    },
    {
     "data": {
      "text/plain": [
       "array([['', '', '', '', '', '', '', '', '', ''],\n",
       "       ['', '', '', '', '', '', '', '', '', ''],\n",
       "       ['', '', '', '', '', '', '', '', '', ''],\n",
       "       ['', '', '', '', '', '', '', '', '', ''],\n",
       "       ['', '', '', '', '', '', '', '', '', ''],\n",
       "       ['', '', '', '', '', '', '', '', '', ''],\n",
       "       ['', '', '', '', '', '', '', '', '', ''],\n",
       "       ['', '', '', '', '', '', '', '', '', ''],\n",
       "       ['', '', '', '', '', '', '', '', '', ''],\n",
       "       ['', '', '', '', '', '', '', '', '', ''],\n",
       "       ['', '', '', '', '', '', '', '', '', ''],\n",
       "       ['', '', '', '', '', '', '', '', '', ''],\n",
       "       ['', '', '', '', '', '', '', '', '', ''],\n",
       "       ['', '', '', '', '', '', '', '', '', ''],\n",
       "       ['', '', '', '', 2, 2, 2, 2, 2, ''],\n",
       "       ['', 2, 2, 2, 2, 2, 2, 2, 2, ''],\n",
       "       ['', '', '', '', '', '', '', '', '', 0],\n",
       "       ['', '', '', 2, '', '', '', '', '', ''],\n",
       "       [2, 2, 2, '', '', '', '', '', '', ''],\n",
       "       [2, 2, 2, 2, 2, 2, 2, 2, 2, '']], dtype=object)"
      ]
     },
     "execution_count": 34,
     "metadata": {},
     "output_type": "execute_result"
    }
   ],
   "source": [
    "play_area.full_row()\n",
    "play_area.empty_full_row()\n",
    "play_area.row_roll()"
   ]
  },
  {
   "cell_type": "code",
   "execution_count": 32,
   "metadata": {},
   "outputs": [],
   "source": [
    "def lock_in():\n",
    "    \"\"\"locks a piece in position\"\"\"\n",
    "    pass"
   ]
  },
  {
   "cell_type": "code",
   "execution_count": 78,
   "metadata": {},
   "outputs": [
    {
     "data": {
      "text/plain": [
       "array([['', '', '', 0, 0, 0, 0, '', '', ''],\n",
       "       ['', '', '', 0, 0, 0, 0, '', '', '']], dtype=object)"
      ]
     },
     "execution_count": 78,
     "metadata": {},
     "output_type": "execute_result"
    }
   ],
   "source": [
    "spawn_area.board[: , 3:7] =0\n",
    "spawn_area.board"
   ]
  },
  {
   "cell_type": "code",
   "execution_count": 133,
   "metadata": {},
   "outputs": [],
   "source": [
    "spawn_area.board[:]= ''"
   ]
  },
  {
   "cell_type": "code",
   "execution_count": 211,
   "metadata": {},
   "outputs": [],
   "source": [
    "# uses spawn_area from Tetrion and T_block from Tetronimoe\n",
    "def spawn_piece(T_block, default_fill='', color=False):\n",
    "    \"\"\"\"assign T_block to spawn (middle columns)\"\"\"\n",
    "    \n",
    "    # ensure no other block is in spawn\n",
    "    if np.any(spawn_area.board[:] != default_fill):\n",
    "        spawn_area.board[:]= default_fill\n",
    "       \n",
    "    #block_length = len(T_block[0]) #amount of columns\n",
    "    block_length = T_block.len\n",
    "    end_column = 3 + block_length\n",
    "    \n",
    "    #colored return\n",
    "    if color == True:\n",
    "        fill_t = T_block.color_matrix()\n",
    "    else:\n",
    "        fill_t = T_block.size\n",
    "    \n",
    "    #return spawn\n",
    "    if block_length == 4: # I piece\n",
    "        spawn_area.board[1: , 3:end_column] = fill_t\n",
    "    else: # all other pieces \n",
    "        spawn_area.board[: , 3:end_column] = fill_t\n",
    " \n",
    "    return(spawn_area.board)\n",
    "\n",
    "\n",
    "# breaks on rotation, need to lock rotation while in spawn\n",
    "# redundancies ~~~ \n"
   ]
  },
  {
   "cell_type": "code",
   "execution_count": 215,
   "metadata": {},
   "outputs": [
    {
     "data": {
      "text/plain": [
       "array([['', '', '', 0, 0, 1, '', '', '', ''],\n",
       "       ['', '', '', 1, 1, 1, '', '', '', '']], dtype=object)"
      ]
     },
     "execution_count": 215,
     "metadata": {},
     "output_type": "execute_result"
    }
   ],
   "source": [
    "spawn_piece(L) \n"
   ]
  },
  {
   "cell_type": "code",
   "execution_count": 234,
   "metadata": {},
   "outputs": [
    {
     "ename": "ValueError",
     "evalue": "could not broadcast input array from shape (4,1) into shape (1,4)",
     "output_type": "error",
     "traceback": [
      "\u001b[1;31m---------------------------------------------------------------------------\u001b[0m",
      "\u001b[1;31mValueError\u001b[0m                                Traceback (most recent call last)",
      "\u001b[1;32m<ipython-input-234-df5a719f4dcd>\u001b[0m in \u001b[0;36m<module>\u001b[1;34m\u001b[0m\n\u001b[1;32m----> 1\u001b[1;33m \u001b[0mspawn_piece\u001b[0m\u001b[1;33m(\u001b[0m\u001b[0mI\u001b[0m\u001b[1;33m,\u001b[0m\u001b[0mcolor\u001b[0m\u001b[1;33m=\u001b[0m\u001b[1;32mTrue\u001b[0m\u001b[1;33m)\u001b[0m\u001b[1;33m\u001b[0m\u001b[1;33m\u001b[0m\u001b[0m\n\u001b[0m",
      "\u001b[1;32m<ipython-input-211-4ee3f4f9a0ec>\u001b[0m in \u001b[0;36mspawn_piece\u001b[1;34m(T_block, default_fill, color)\u001b[0m\n\u001b[0;32m     19\u001b[0m     \u001b[1;31m#return spawn\u001b[0m\u001b[1;33m\u001b[0m\u001b[1;33m\u001b[0m\u001b[1;33m\u001b[0m\u001b[0m\n\u001b[0;32m     20\u001b[0m     \u001b[1;32mif\u001b[0m \u001b[0mblock_length\u001b[0m \u001b[1;33m==\u001b[0m \u001b[1;36m4\u001b[0m\u001b[1;33m:\u001b[0m \u001b[1;31m# I piece\u001b[0m\u001b[1;33m\u001b[0m\u001b[1;33m\u001b[0m\u001b[0m\n\u001b[1;32m---> 21\u001b[1;33m         \u001b[0mspawn_area\u001b[0m\u001b[1;33m.\u001b[0m\u001b[0mboard\u001b[0m\u001b[1;33m[\u001b[0m\u001b[1;36m1\u001b[0m\u001b[1;33m:\u001b[0m \u001b[1;33m,\u001b[0m \u001b[1;36m3\u001b[0m\u001b[1;33m:\u001b[0m\u001b[0mend_column\u001b[0m\u001b[1;33m]\u001b[0m \u001b[1;33m=\u001b[0m \u001b[0mfill_t\u001b[0m\u001b[1;33m\u001b[0m\u001b[1;33m\u001b[0m\u001b[0m\n\u001b[0m\u001b[0;32m     22\u001b[0m     \u001b[1;32melse\u001b[0m\u001b[1;33m:\u001b[0m \u001b[1;31m# all other pieces\u001b[0m\u001b[1;33m\u001b[0m\u001b[1;33m\u001b[0m\u001b[0m\n\u001b[0;32m     23\u001b[0m         \u001b[0mspawn_area\u001b[0m\u001b[1;33m.\u001b[0m\u001b[0mboard\u001b[0m\u001b[1;33m[\u001b[0m\u001b[1;33m:\u001b[0m \u001b[1;33m,\u001b[0m \u001b[1;36m3\u001b[0m\u001b[1;33m:\u001b[0m\u001b[0mend_column\u001b[0m\u001b[1;33m]\u001b[0m \u001b[1;33m=\u001b[0m \u001b[0mfill_t\u001b[0m\u001b[1;33m\u001b[0m\u001b[1;33m\u001b[0m\u001b[0m\n",
      "\u001b[1;31mValueError\u001b[0m: could not broadcast input array from shape (4,1) into shape (1,4)"
     ]
    }
   ],
   "source": [
    "spawn_piece(I,color=True) "
   ]
  },
  {
   "cell_type": "code",
   "execution_count": 233,
   "metadata": {},
   "outputs": [
    {
     "data": {
      "text/plain": [
       "array([[1],\n",
       "       [1],\n",
       "       [1],\n",
       "       [1]])"
      ]
     },
     "execution_count": 233,
     "metadata": {},
     "output_type": "execute_result"
    }
   ],
   "source": [
    "I.rotate_block('up')\n",
    "#breaks spawn"
   ]
  },
  {
   "cell_type": "markdown",
   "metadata": {},
   "source": [
    "______"
   ]
  },
  {
   "cell_type": "markdown",
   "metadata": {},
   "source": [
    "## Pieces\n",
    "- class (name, color, size)\n",
    "    - rotation"
   ]
  },
  {
   "cell_type": "code",
   "execution_count": 227,
   "metadata": {},
   "outputs": [],
   "source": [
    "class Tetronimoe:\n",
    "    \"\"\" Tetris block operations \"\"\"\n",
    "    def __init__(self, name, size, color):\n",
    "        \"\"\"self.size is an identity matrix for the block\"\"\"\n",
    "        self.name = name\n",
    "        self.size = size\n",
    "        self.color = color\n",
    "        self.len = len(self.size[0])\n",
    "        \n",
    "        self.default_size = None\n",
    "        self.default()\n",
    "        \n",
    "    def default(self):\n",
    "        \"\"\"initial state of block size is stored\"\"\"\n",
    "        if self.default_size == None:\n",
    "            self.default_size = self.size\n",
    "        return(self.default_size)\n",
    "        \n",
    "    def color_matrix(self):\n",
    "        \"\"\"returns a string matrix of the colored piece\"\"\"\n",
    "        return(np.where(self.size == 0, '', self.color))\n",
    "    \n",
    "    def rotate_block(self, rotation_direction,color=False):\n",
    "        \"\"\"block orientation is reassigned with rotation\"\"\"\n",
    "        #clockwise\n",
    "        if rotation_direction == 'up':\n",
    "            self.size = np.rot90(self.size, k=-1, axes=(0,1))\n",
    "            \n",
    "        #counter-clockwise\n",
    "        elif rotation_direction == 'down':\n",
    "            self.size = np.rot90(self.size, k=1, axes=(0,1))\n",
    "        \n",
    "        # returns identity or color matrix\n",
    "        if color == False: \n",
    "            return(self.size)\n",
    "        elif color == True:\n",
    "            return(self.color_matrix())\n"
   ]
  },
  {
   "cell_type": "code",
   "execution_count": 228,
   "metadata": {
    "scrolled": true
   },
   "outputs": [],
   "source": [
    "#changed I.size to a one dimension matrix\n",
    "I = Tetronimoe('I_block', color = 'cyan', size = np.array([[1,1,1,1]]) )\n",
    "J = Tetronimoe('J_block', color = 'purple', size = np.array([[1,0,0],[1,1,1]]) )\n",
    "L = Tetronimoe('L_block', color = 'orange', size = np.array([[0,0,1],[1,1,1]]) )\n",
    "O = Tetronimoe('O_block', color = 'yellow', size = np.array([[1,1],[1,1]]) )\n",
    "S = Tetronimoe('S_block', color = 'green', size = np.array([[0,1,1],[1,1,0]]) )\n",
    "Z = Tetronimoe('Z_block', color = 'red', size = np.array([[1,1,0],[0,1,1]]) )\n",
    "T = Tetronimoe('T_block', color = 'purple', size = np.array([[0,1,0],[1,1,1]]) )"
   ]
  },
  {
   "cell_type": "code",
   "execution_count": 229,
   "metadata": {},
   "outputs": [
    {
     "data": {
      "text/plain": [
       "array([['cyan', 'cyan', 'cyan', 'cyan']], dtype='<U4')"
      ]
     },
     "execution_count": 229,
     "metadata": {},
     "output_type": "execute_result"
    }
   ],
   "source": [
    "I.color_matrix()"
   ]
  },
  {
   "cell_type": "code",
   "execution_count": 230,
   "metadata": {},
   "outputs": [
    {
     "data": {
      "text/plain": [
       "array([['cyan'],\n",
       "       ['cyan'],\n",
       "       ['cyan'],\n",
       "       ['cyan']], dtype='<U4')"
      ]
     },
     "execution_count": 230,
     "metadata": {},
     "output_type": "execute_result"
    }
   ],
   "source": [
    "I.rotate_block('up',color=True)"
   ]
  },
  {
   "cell_type": "code",
   "execution_count": 231,
   "metadata": {},
   "outputs": [
    {
     "data": {
      "text/plain": [
       "array([[1, 1, 1, 1]])"
      ]
     },
     "execution_count": 231,
     "metadata": {},
     "output_type": "execute_result"
    }
   ],
   "source": [
    "I.rotate_block('down')"
   ]
  },
  {
   "cell_type": "code",
   "execution_count": 23,
   "metadata": {},
   "outputs": [],
   "source": []
  },
  {
   "cell_type": "code",
   "execution_count": 226,
   "metadata": {},
   "outputs": [
    {
     "data": {
      "text/plain": [
       "array([[1, 1, 1, 1]])"
      ]
     },
     "execution_count": 226,
     "metadata": {},
     "output_type": "execute_result"
    }
   ],
   "source": [
    "I.default_size"
   ]
  },
  {
   "cell_type": "code",
   "execution_count": 225,
   "metadata": {},
   "outputs": [
    {
     "data": {
      "text/plain": [
       "array([[1],\n",
       "       [1],\n",
       "       [1],\n",
       "       [1]])"
      ]
     },
     "execution_count": 225,
     "metadata": {},
     "output_type": "execute_result"
    }
   ],
   "source": [
    "I.rotate_block(\"up\")"
   ]
  },
  {
   "cell_type": "code",
   "execution_count": null,
   "metadata": {},
   "outputs": [],
   "source": []
  },
  {
   "cell_type": "code",
   "execution_count": null,
   "metadata": {},
   "outputs": [],
   "source": []
  },
  {
   "cell_type": "code",
   "execution_count": null,
   "metadata": {},
   "outputs": [],
   "source": []
  },
  {
   "cell_type": "code",
   "execution_count": null,
   "metadata": {},
   "outputs": [],
   "source": []
  },
  {
   "cell_type": "code",
   "execution_count": null,
   "metadata": {},
   "outputs": [],
   "source": []
  },
  {
   "cell_type": "code",
   "execution_count": null,
   "metadata": {},
   "outputs": [],
   "source": []
  },
  {
   "cell_type": "code",
   "execution_count": null,
   "metadata": {},
   "outputs": [],
   "source": []
  },
  {
   "cell_type": "code",
   "execution_count": null,
   "metadata": {},
   "outputs": [],
   "source": []
  },
  {
   "cell_type": "code",
   "execution_count": null,
   "metadata": {},
   "outputs": [],
   "source": []
  },
  {
   "cell_type": "markdown",
   "metadata": {},
   "source": [
    "## weighted tetronimoe/piece randomizer\n",
    "- 7 pieces in a bag of 35 total; 5 of each piece\n",
    "    - https://tetris.wiki/TGM_randomizer \n",
    "    - https://tetris.wiki/Random_Generator\n",
    "    "
   ]
  },
  {
   "cell_type": "code",
   "execution_count": 605,
   "metadata": {
    "collapsed": true
   },
   "outputs": [
    {
     "data": {
      "text/plain": [
       "['I_block', 'J_block', 'L_block', 'T_block', 'O_block', 'S_block', 'Z_block']"
      ]
     },
     "execution_count": 605,
     "metadata": {},
     "output_type": "execute_result"
    }
   ],
   "source": [
    "T_blocks = (I, J, L, T, O, S, Z) #tetronimoe class objects\n",
    "def heavy_bag(start=False):\n",
    "    \"\"\"returns name values of tetronimoes for randomizer use\"\"\"\n",
    "    all_blocks = [i.name for i in T_blocks]\n",
    "    \n",
    "    # first block spawn != (S,Z,O)\n",
    "    if start == True: \n",
    "        start_blocks = [i.name for i in T_blocks[0:4]]\n",
    "        return(start_blocks)\n",
    "    \n",
    "    \n",
    "    else: return(all_blocks)\n",
    "heavy_bag()"
   ]
  },
  {
   "cell_type": "code",
   "execution_count": 606,
   "metadata": {
    "collapsed": true
   },
   "outputs": [
    {
     "data": {
      "text/plain": [
       "['I_block', 'J_block', 'L_block', 'T_block']"
      ]
     },
     "execution_count": 606,
     "metadata": {},
     "output_type": "execute_result"
    }
   ],
   "source": [
    "heavy_bag(True) #starting block"
   ]
  },
  {
   "cell_type": "code",
   "execution_count": 587,
   "metadata": {},
   "outputs": [],
   "source": [
    "START = random.choice(heavy_bag(True)*7) # starting block legal; != (S,Z,O)\n",
    "full_bag = heavy_bag()*7"
   ]
  },
  {
   "cell_type": "code",
   "execution_count": 588,
   "metadata": {},
   "outputs": [],
   "source": [
    "def random_next(first):\n",
    "    \"\"\"randomizor tries 6 times for no duplicate pieces in a row\"\"\"\n",
    "    x=6 \n",
    "    \n",
    "    second = random.choice(full_bag)\n",
    "    \n",
    "    while second == first:\n",
    "        #print(\"duplicate: {}\".format(second))\n",
    "        second = random.choice(full_bag)\n",
    "        #print(\"second is now {}\".format(second))\n",
    "        x -= 1\n",
    "        #print(\"{} attempts left\".format(x))\n",
    "        if second != first or x == 0:\n",
    "            break\n",
    "    #print(\"{} != {}\".format(first,second))\n",
    "    return(second)"
   ]
  },
  {
   "cell_type": "code",
   "execution_count": null,
   "metadata": {},
   "outputs": [],
   "source": []
  },
  {
   "cell_type": "code",
   "execution_count": 589,
   "metadata": {},
   "outputs": [],
   "source": [
    "#starting bag:\n",
    "## START = random.choice(heavy_bag(True)*7)\n",
    "\n",
    "def make_bag(starting_block=None,bag_size=6):\n",
    "    \"\"\"makes a bag of tetronimoe pieces using random_next function \"\"\"\n",
    "    \n",
    "    #\n",
    "    piece_list=[starting_block]\n",
    "    \n",
    "    for i in range(bag_size-1): \n",
    "        piece_list.append(random_next(piece_list[i]))\n",
    "    return(piece_list)"
   ]
  },
  {
   "cell_type": "raw",
   "metadata": {},
   "source": [
    "#test of starting bag\n",
    "a = make_bag(START)\n",
    "print(a)\n",
    "#test using random_next() function to create new bag\n",
    "b=make_bag(starting_block=random_next(a[-1]))\n",
    "print(b)"
   ]
  },
  {
   "cell_type": "code",
   "execution_count": null,
   "metadata": {},
   "outputs": [],
   "source": []
  },
  {
   "cell_type": "code",
   "execution_count": 590,
   "metadata": {},
   "outputs": [],
   "source": [
    "full_bag = heavy_bag()*7\n"
   ]
  },
  {
   "cell_type": "code",
   "execution_count": 682,
   "metadata": {},
   "outputs": [],
   "source": [
    "# first check if all 7 pieces were used in pool\n",
    "# pieces not in second pool are added to randomizer \n",
    "# full_bag = heavy_bag()*7\n",
    "# previous_pool is a 6 item name list\n",
    "# BLOCKS = heavy_bag() returns a list of the block names\n",
    "\n",
    "def adjust_weight(previous_pool, weighted_bag=full_bag):\n",
    "    \"\"\"modifies the total pool for pieces to randomize from\"\"\"\n",
    "    return_weight = weighted_bag\n",
    "    BLOCKS = heavy_bag()\n",
    "    for i in BLOCKS:\n",
    "        if i in previous_pool and i in return_weight:\n",
    "            #print('removing {} from next bag'.format(i))\n",
    "            return_weight.remove(i)\n",
    "        \n",
    "        elif i not in previous_pool:\n",
    "            #print('adding {} to next bag'.format(i))\n",
    "            return_weight.append(i)\n",
    "            \n",
    "    #print(len(return_weight))\n",
    "    return(return_weight)"
   ]
  },
  {
   "cell_type": "raw",
   "metadata": {},
   "source": [
    "b_adjusted = adjust_weight(b)\n",
    "print(b_adjusted)\n",
    "b_adjusted2 = adjust_weight(previous_pool=b,weighted_bag=b_adjusted)\n",
    "print(b_adjusted2)\n",
    "a_adjusted = adjust_weight(a,b_adjusted)\n",
    "print(a_adjusted)"
   ]
  },
  {
   "cell_type": "code",
   "execution_count": null,
   "metadata": {},
   "outputs": [],
   "source": []
  },
  {
   "cell_type": "code",
   "execution_count": 683,
   "metadata": {},
   "outputs": [],
   "source": [
    "\n",
    "def random_next_weighted(first,WEIGHT_BAG=full_bag):\n",
    "    #################### WEIGHTED #############\n",
    "    x=6 \n",
    "    \n",
    "    second = random.choice(WEIGHT_BAG)\n",
    "    \n",
    "    while second == first:\n",
    "        #print(\"duplicate: {}\".format(second))\n",
    "        second = random.choice(WEIGHT_BAG)\n",
    "        #print(\"second is now {}\".format(second))\n",
    "        x -= 1\n",
    "        #print(\"{} attempts left\".format(x))\n",
    "        if second != first or x == 0:\n",
    "            break\n",
    "    #print(\"{} != {}\".format(first,second))\n",
    "    return(second)\n"
   ]
  },
  {
   "cell_type": "code",
   "execution_count": null,
   "metadata": {},
   "outputs": [],
   "source": []
  },
  {
   "cell_type": "code",
   "execution_count": 732,
   "metadata": {},
   "outputs": [],
   "source": [
    "#want to modify make_bag so it applies random_next to all previous pieces \n",
    "### NOT WORKING AS INTENDED BUT WORKING\n",
    "#check all previous? then \n",
    "def make_bag_copy(starting_block):\n",
    "    ### \n",
    "    \n",
    "    piece_list=[starting_block] # initially a list of 1 item\n",
    "    \n",
    "    for i in range(5): \n",
    "        x = random_next_weighted(piece_list[i])\n",
    "        y = random_next_weighted(piece_list[i])\n",
    "        for j in piece_list:\n",
    "            if x == j:\n",
    "                x = y\n",
    "        piece_list.append(x)\n",
    "                \n",
    "    return(piece_list)\n",
    "\n",
    "#make_bag_copy(START)"
   ]
  },
  {
   "cell_type": "code",
   "execution_count": 733,
   "metadata": {},
   "outputs": [],
   "source": [
    "st_bag = make_bag_copy(START)\n",
    "#print(st_bag)\n",
    "pool_b1 = adjust_weight(st_bag)"
   ]
  },
  {
   "cell_type": "code",
   "execution_count": 734,
   "metadata": {},
   "outputs": [],
   "source": [
    "bag2 = make_bag_copy(starting_block=random_next_weighted(st_bag[-1],pool_b1))\n",
    "pool_b2 = adjust_weight(bag2)"
   ]
  },
  {
   "cell_type": "code",
   "execution_count": 735,
   "metadata": {},
   "outputs": [],
   "source": [
    "bag3 = make_bag_copy(starting_block=random_next_weighted(bag2[-1],pool_b2))\n",
    "pool_b3 = adjust_weight(bag3)"
   ]
  },
  {
   "cell_type": "code",
   "execution_count": 736,
   "metadata": {},
   "outputs": [],
   "source": [
    "full_bag = heavy_bag()*7"
   ]
  },
  {
   "cell_type": "code",
   "execution_count": 737,
   "metadata": {},
   "outputs": [],
   "source": [
    "\n",
    "def return_bag(BAG_LIST=None,BAG_POOL=None,START=False):\n",
    "    \"\"\"returns a 6 block pool followed by the remaining weighted pool\"\"\"\n",
    "    # BAG_LIST --> generated list of *randomized blocks\n",
    "    # BAG_POOL --> generated weighted pool\n",
    "    # assigned None because start\n",
    "    \n",
    "    if START == True:  \n",
    "        #single element list to start out with\n",
    "        starting_choice = random.choice(heavy_bag(True)*7)\n",
    "        \n",
    "        # creates a list of elements following ^\n",
    "        b_list = make_bag_copy(starting_choice)\n",
    "        \n",
    "        # adjusts weight of random pool\n",
    "        pool_b = adjust_weight(b_list, weighted_bag=full_bag)\n",
    "        #START == False\n",
    "        #return(b_list,pool_b)\n",
    "    \n",
    "    else:\n",
    "        # random_next_weighted() -> last element of the previous list -> generate next start\n",
    "        pool_previous = random_next_weighted(BAG_LIST[-1],BAG_POOL)\n",
    "        \n",
    "        # generate list using ^\n",
    "        b_list = make_bag_copy(starting_block=pool_previous)\n",
    "        \n",
    "        #adjust weight of random pool\n",
    "        pool_b = adjust_weight(previous_pool = b_list, weighted_bag = BAG_POOL)\n",
    "    return(b_list,pool_b)"
   ]
  },
  {
   "cell_type": "code",
   "execution_count": 765,
   "metadata": {},
   "outputs": [],
   "source": [
    "a = return_bag(BAG_LIST=None,BAG_POOL=None,START=True)\n",
    "b=return_bag(a[0],a[1],START=False)\n",
    "c=return_bag(b[0],b[1],START=False)"
   ]
  },
  {
   "cell_type": "code",
   "execution_count": 766,
   "metadata": {},
   "outputs": [
    {
     "name": "stdout",
     "output_type": "stream",
     "text": [
      "['L_block', 'T_block', 'S_block', 'O_block', 'Z_block', 'S_block'] ['J_block', 'J_block', 'J_block', 'I_block', 'J_block', 'I_block', 'J_block', 'I_block', 'I_block', 'J_block', 'I_block', 'J_block', 'I_block', 'J_block', 'J_block', 'I_block', 'J_block', 'I_block', 'J_block', 'J_block', 'I_block', 'J_block', 'J_block', 'L_block', 'J_block']\n",
      "25\n",
      "['I_block', 'S_block', 'Z_block', 'O_block', 'S_block', 'T_block'] ['J_block', 'J_block', 'J_block', 'I_block', 'J_block', 'I_block', 'J_block', 'I_block', 'I_block', 'J_block', 'I_block', 'J_block', 'I_block', 'J_block', 'J_block', 'I_block', 'J_block', 'I_block', 'J_block', 'J_block', 'I_block', 'J_block', 'J_block', 'L_block', 'J_block']\n",
      "25\n",
      "['I_block', 'L_block', 'Z_block', 'S_block', 'T_block', 'O_block'] ['J_block', 'J_block', 'J_block', 'I_block', 'J_block', 'I_block', 'J_block', 'I_block', 'I_block', 'J_block', 'I_block', 'J_block', 'I_block', 'J_block', 'J_block', 'I_block', 'J_block', 'I_block', 'J_block', 'J_block', 'I_block', 'J_block', 'J_block', 'L_block', 'J_block']\n",
      "25\n"
     ]
    }
   ],
   "source": [
    "print(a[0],a[1])\n",
    "print(len(a[1]))\n",
    "\n",
    "print(b[0],b[1])\n",
    "print(len(b[1]))\n",
    "\n",
    "print(c[0],c[1])\n",
    "print(len(c[1]))"
   ]
  },
  {
   "cell_type": "code",
   "execution_count": 745,
   "metadata": {},
   "outputs": [],
   "source": [
    "d=return_bag(c[0],c[1])"
   ]
  },
  {
   "cell_type": "code",
   "execution_count": 744,
   "metadata": {},
   "outputs": [
    {
     "data": {
      "text/plain": [
       "39"
      ]
     },
     "execution_count": 744,
     "metadata": {},
     "output_type": "execute_result"
    }
   ],
   "source": [
    "len(c[1])"
   ]
  },
  {
   "cell_type": "code",
   "execution_count": 797,
   "metadata": {
    "scrolled": true
   },
   "outputs": [
    {
     "name": "stdout",
     "output_type": "stream",
     "text": [
      "['I_block', 'Z_block', 'L_block', 'S_block', 'Z_block', 'L_block'] 56\n",
      "(['J_block', 'L_block', 'O_block', 'S_block', 'T_block', 'Z_block'], ['J_block', 'J_block', 'I_block', 'J_block', 'I_block', 'J_block', 'J_block', 'J_block', 'J_block', 'I_block', 'J_block', 'J_block', 'J_block', 'I_block', 'I_block', 'J_block', 'J_block', 'I_block', 'J_block', 'I_block', 'I_block', 'J_block', 'J_block', 'I_block', 'I_block', 'I_block', 'J_block', 'I_block', 'J_block', 'I_block', 'J_block', 'J_block', 'I_block', 'J_block', 'I_block', 'I_block', 'J_block', 'I_block', 'J_block', 'J_block', 'I_block', 'J_block', 'I_block', 'J_block', 'J_block', 'I_block', 'J_block', 'J_block', 'I_block', 'I_block', 'I_block', 'J_block', 'I_block', 'J_block', 'T_block', 'O_block'])\n"
     ]
    }
   ],
   "source": [
    "# return a sequence of lists generated by return_bag()\n",
    "# return_bag weight resets if len(pool_b) is less than threshold\n",
    "def return_bag_out():\n",
    "    \n",
    "    start = return_bag(START=True) #tuple\n",
    "    s=[]\n",
    "    next_iter = return_bag(start[0],start[1])\n",
    "    print(next_iter[0],len(next_iter[1]))\n",
    "return_bag_out()"
   ]
  },
  {
   "cell_type": "code",
   "execution_count": 758,
   "metadata": {},
   "outputs": [
    {
     "name": "stdout",
     "output_type": "stream",
     "text": [
      "0 0\n",
      "1 1\n",
      "2 2\n"
     ]
    }
   ],
   "source": [
    "for i,j in enumerate(range(3)):\n",
    "    \n",
    "    print(i,j)\n",
    "    "
   ]
  },
  {
   "cell_type": "code",
   "execution_count": null,
   "metadata": {},
   "outputs": [],
   "source": []
  },
  {
   "cell_type": "code",
   "execution_count": null,
   "metadata": {},
   "outputs": [],
   "source": []
  },
  {
   "cell_type": "code",
   "execution_count": null,
   "metadata": {},
   "outputs": [],
   "source": []
  }
 ],
 "metadata": {
  "kernelspec": {
   "display_name": "Python 3",
   "language": "python",
   "name": "python3"
  },
  "language_info": {
   "codemirror_mode": {
    "name": "ipython",
    "version": 3
   },
   "file_extension": ".py",
   "mimetype": "text/x-python",
   "name": "python",
   "nbconvert_exporter": "python",
   "pygments_lexer": "ipython3",
   "version": "3.7.4"
  }
 },
 "nbformat": 4,
 "nbformat_minor": 2
}
